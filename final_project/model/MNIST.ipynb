{
  "nbformat": 4,
  "nbformat_minor": 0,
  "metadata": {
    "colab": {
      "provenance": [],
      "gpuType": "T4"
    },
    "kernelspec": {
      "name": "python3",
      "display_name": "Python 3"
    },
    "language_info": {
      "name": "python"
    },
    "accelerator": "GPU"
  },
  "cells": [
    {
      "cell_type": "code",
      "execution_count": null,
      "metadata": {
        "id": "0maMVaArf3oy",
        "colab": {
          "base_uri": "https://localhost:8080/"
        },
        "outputId": "8d059dbb-c266-4309-8d58-5a87b5fa5e71"
      },
      "outputs": [
        {
          "output_type": "stream",
          "name": "stdout",
          "text": [
            "cuda\n"
          ]
        }
      ],
      "source": [
        "import matplotlib.pyplot as plt\n",
        "import torch\n",
        "import torch.nn as nn\n",
        "import torch.nn.functional as F\n",
        "import torchvision\n",
        "import os\n",
        "\n",
        "device = torch.device('cuda' if torch.cuda.is_available() else 'cpu')\n",
        "print(device)"
      ]
    },
    {
      "cell_type": "markdown",
      "source": [
        "#### Set hyperparameter"
      ],
      "metadata": {
        "id": "fwkqNPUH4tSb"
      }
    },
    {
      "cell_type": "code",
      "source": [
        "# set hyperparameter\n",
        "EPOCH = 1\n",
        "BATCH_SIZE = 50\n",
        "LEARN_RATE = 0.001\n",
        "DOWNLOAD_MNIST = True"
      ],
      "metadata": {
        "id": "MPW7sRa54AXD"
      },
      "execution_count": null,
      "outputs": []
    },
    {
      "cell_type": "markdown",
      "source": [
        "#### Download MNIST data"
      ],
      "metadata": {
        "id": "0yZWKmbKG-Bf"
      }
    },
    {
      "cell_type": "code",
      "source": [
        "# Transform\n",
        "transform = torchvision.transforms.ToTensor()\n",
        "\n",
        "train_data = torchvision.datasets.MNIST(\n",
        "    root = './mnist',\n",
        "    train = True,\n",
        "    transform = transform,\n",
        "    download=DOWNLOAD_MNIST\n",
        ")\n",
        "\n",
        "print('train data size = ', train_data.train_data.size()[0])\n",
        "print('train label size = ', train_data.train_labels.size()[0])\n",
        "print('input image shape = ', list(train_data.train_data[0].size()))\n",
        "print('---')\n",
        "\n",
        "\n",
        "test_data = torchvision.datasets.MNIST(\n",
        "    root = './mnist/',\n",
        "    train = False,\n",
        "    transform = transform,\n",
        "    download=DOWNLOAD_MNIST\n",
        ")\n",
        "print('test data size = ', test_data.test_data.size()[0])\n",
        "print('test label size = ', test_data.test_data.size()[0])\n",
        "print('---')"
      ],
      "metadata": {
        "colab": {
          "base_uri": "https://localhost:8080/"
        },
        "id": "YTrNySxKHCsp",
        "outputId": "fbad248c-d507-48d8-9c91-d2e0313ba6b4"
      },
      "execution_count": null,
      "outputs": [
        {
          "output_type": "stream",
          "name": "stdout",
          "text": [
            "Downloading http://yann.lecun.com/exdb/mnist/train-images-idx3-ubyte.gz\n",
            "Downloading http://yann.lecun.com/exdb/mnist/train-images-idx3-ubyte.gz to ./mnist/MNIST/raw/train-images-idx3-ubyte.gz\n"
          ]
        },
        {
          "output_type": "stream",
          "name": "stderr",
          "text": [
            "100%|██████████| 9912422/9912422 [00:00<00:00, 92771864.88it/s]\n"
          ]
        },
        {
          "output_type": "stream",
          "name": "stdout",
          "text": [
            "Extracting ./mnist/MNIST/raw/train-images-idx3-ubyte.gz to ./mnist/MNIST/raw\n",
            "\n",
            "Downloading http://yann.lecun.com/exdb/mnist/train-labels-idx1-ubyte.gz\n",
            "Downloading http://yann.lecun.com/exdb/mnist/train-labels-idx1-ubyte.gz to ./mnist/MNIST/raw/train-labels-idx1-ubyte.gz\n"
          ]
        },
        {
          "output_type": "stream",
          "name": "stderr",
          "text": [
            "100%|██████████| 28881/28881 [00:00<00:00, 93181302.94it/s]\n"
          ]
        },
        {
          "output_type": "stream",
          "name": "stdout",
          "text": [
            "Extracting ./mnist/MNIST/raw/train-labels-idx1-ubyte.gz to ./mnist/MNIST/raw\n",
            "\n",
            "Downloading http://yann.lecun.com/exdb/mnist/t10k-images-idx3-ubyte.gz\n",
            "Downloading http://yann.lecun.com/exdb/mnist/t10k-images-idx3-ubyte.gz to ./mnist/MNIST/raw/t10k-images-idx3-ubyte.gz\n"
          ]
        },
        {
          "output_type": "stream",
          "name": "stderr",
          "text": [
            "100%|██████████| 1648877/1648877 [00:00<00:00, 24475919.71it/s]\n"
          ]
        },
        {
          "output_type": "stream",
          "name": "stdout",
          "text": [
            "Extracting ./mnist/MNIST/raw/t10k-images-idx3-ubyte.gz to ./mnist/MNIST/raw\n",
            "\n",
            "Downloading http://yann.lecun.com/exdb/mnist/t10k-labels-idx1-ubyte.gz\n",
            "Downloading http://yann.lecun.com/exdb/mnist/t10k-labels-idx1-ubyte.gz to ./mnist/MNIST/raw/t10k-labels-idx1-ubyte.gz\n"
          ]
        },
        {
          "output_type": "stream",
          "name": "stderr",
          "text": [
            "100%|██████████| 4542/4542 [00:00<00:00, 5259671.11it/s]\n"
          ]
        },
        {
          "output_type": "stream",
          "name": "stdout",
          "text": [
            "Extracting ./mnist/MNIST/raw/t10k-labels-idx1-ubyte.gz to ./mnist/MNIST/raw\n",
            "\n",
            "train data size =  60000\n",
            "train label size =  60000\n",
            "input image shape =  [28, 28]\n",
            "---\n",
            "test data size =  10000\n",
            "test label size =  10000\n",
            "---\n"
          ]
        },
        {
          "output_type": "stream",
          "name": "stderr",
          "text": [
            "/usr/local/lib/python3.10/dist-packages/torchvision/datasets/mnist.py:75: UserWarning: train_data has been renamed data\n",
            "  warnings.warn(\"train_data has been renamed data\")\n",
            "/usr/local/lib/python3.10/dist-packages/torchvision/datasets/mnist.py:65: UserWarning: train_labels has been renamed targets\n",
            "  warnings.warn(\"train_labels has been renamed targets\")\n",
            "/usr/local/lib/python3.10/dist-packages/torchvision/datasets/mnist.py:80: UserWarning: test_data has been renamed data\n",
            "  warnings.warn(\"test_data has been renamed data\")\n"
          ]
        }
      ]
    },
    {
      "cell_type": "markdown",
      "source": [
        "#### Check MNIST image"
      ],
      "metadata": {
        "id": "GHxXuGIp46ll"
      }
    },
    {
      "cell_type": "code",
      "source": [
        "plt.ion()\n",
        "for i in range(1, 11):\n",
        "    plt.subplot(2, 5, i)\n",
        "    plt.imshow(train_data.train_data[i].numpy(), cmap = 'gray')\n",
        "    plt.axis('off')\n",
        "    plt.title('%i' % train_data.train_labels[i])\n",
        "plt.show()"
      ],
      "metadata": {
        "colab": {
          "base_uri": "https://localhost:8080/",
          "height": 346
        },
        "id": "h5jdFhwn5DS3",
        "outputId": "a74b48ab-e420-4a85-9c1b-90e81d666b1c"
      },
      "execution_count": null,
      "outputs": [
        {
          "output_type": "display_data",
          "data": {
            "text/plain": [
              "<Figure size 640x480 with 10 Axes>"
            ],
            "image/png": "[encoded data removed]"
          },
          "metadata": {}
        }
      ]
    },
    {
      "cell_type": "markdown",
      "source": [
        "#### Build CNN Module (LeNet)"
      ],
      "metadata": {
        "id": "UZaBJfsUFST7"
      }
    },
    {
      "cell_type": "code",
      "source": [
        "class LeNet(nn.Module):\n",
        "    def __init__(self, in_channel_num = 1, out_class_num = 10):\n",
        "        super(LeNet, self).__init__()\n",
        "        self.feature_maps = list()\n",
        "        # conv1: 28x28x1 -> 28x28x6 -> 14x14x6\n",
        "        self.conv1 = nn.Sequential(\n",
        "            nn.Conv2d(in_channels = in_channel_num, out_channels=6, kernel_size=5, stride=1, padding=2),\n",
        "            nn.ReLU(),\n",
        "            nn.MaxPool2d(kernel_size=2)\n",
        "        )\n",
        "        # conv2: 14x14x6 -> 10x10x16 -> 5x5x16\n",
        "        self.conv2 = nn.Sequential(\n",
        "            nn.Conv2d(in_channels=6, out_channels=16, kernel_size=5),\n",
        "            nn.ReLU(),\n",
        "            nn.MaxPool2d(kernel_size=2)\n",
        "        )\n",
        "        # full connection: 5x5x16 -> 120 -> 84 -> 10\n",
        "        self.fc1 = nn.Linear(in_features=5*5*16, out_features=120)\n",
        "        self.fc2 = nn.Linear(in_features=120, out_features=84)\n",
        "        self.fc3 = nn.Linear(in_features=84, out_features=out_class_num)\n",
        "\n",
        "    def forward(self, x):\n",
        "        self.feature_maps.clear()\n",
        "        x = self.conv1(x)\n",
        "        self.feature_maps.append(x)\n",
        "        x = self.conv2(x)\n",
        "        self.feature_maps.append(x)\n",
        "        x = torch.flatten(x, 1)\n",
        "        self.feature_maps.append(x)\n",
        "        x = F.relu(self.fc1(x))\n",
        "        self.feature_maps.append(x)\n",
        "        x = F.relu(self.fc2(x))\n",
        "        self.feature_maps.append(x)\n",
        "        x = self.fc3(x)\n",
        "        print(self.feature_maps)\n",
        "        return x"
      ],
      "metadata": {
        "id": "kOUXZLIAldDQ"
      },
      "execution_count": null,
      "outputs": []
    },
    {
      "cell_type": "markdown",
      "source": [
        "#### Initialize CNN Model\n",
        "- model : LeNet\n",
        "- optimization function : Adam\n",
        "- loss function : Cross Entropy"
      ],
      "metadata": {
        "id": "auWqUGU9FcLH"
      }
    },
    {
      "cell_type": "code",
      "source": [
        "model = LeNet()\n",
        "optimization = torch.optim.Adam(model.parameters(), lr = LEARN_RATE)\n",
        "loss_func = nn.CrossEntropyLoss()\n",
        "\n",
        "print(model)\n",
        "print('---')\n",
        "\n",
        "# calculate number of total parameters\n",
        "total_param_num = 0\n",
        "for parameter in model.parameters():\n",
        "    # print(parameter.size())\n",
        "    param_num=1\n",
        "    for s in list(parameter.size()):\n",
        "        param_num = param_num*s\n",
        "    total_param_num += param_num\n",
        "print('# of parameters = ', total_param_num)"
      ],
      "metadata": {
        "colab": {
          "base_uri": "https://localhost:8080/"
        },
        "id": "8-wugwSSI7MN",
        "outputId": "c454f7cb-482e-4d21-d30b-015e72ffcee8"
      },
      "execution_count": null,
      "outputs": [
        {
          "output_type": "stream",
          "name": "stdout",
          "text": [
            "LeNet(\n",
            "  (conv1): Sequential(\n",
            "    (0): Conv2d(1, 6, kernel_size=(5, 5), stride=(1, 1), padding=(2, 2))\n",
            "    (1): ReLU()\n",
            "    (2): MaxPool2d(kernel_size=2, stride=2, padding=0, dilation=1, ceil_mode=False)\n",
            "  )\n",
            "  (conv2): Sequential(\n",
            "    (0): Conv2d(6, 16, kernel_size=(5, 5), stride=(1, 1))\n",
            "    (1): ReLU()\n",
            "    (2): MaxPool2d(kernel_size=2, stride=2, padding=0, dilation=1, ceil_mode=False)\n",
            "  )\n",
            "  (fc1): Linear(in_features=400, out_features=120, bias=True)\n",
            "  (fc2): Linear(in_features=120, out_features=84, bias=True)\n",
            "  (fc3): Linear(in_features=84, out_features=10, bias=True)\n",
            ")\n",
            "---\n",
            "# of parameters =  61706\n"
          ]
        }
      ]
    },
    {
      "cell_type": "markdown",
      "source": [
        "#### Start Training"
      ],
      "metadata": {
        "id": "CmhGhMsrLz_9"
      }
    },
    {
      "cell_type": "code",
      "source": [
        "from torch.utils.data import DataLoader\n",
        "\n",
        "train_loader = DataLoader(dataset = train_data, batch_size = BATCH_SIZE, shuffle = True)\n",
        "test_loader = DataLoader(dataset = test_data, batch_size=BATCH_SIZE, shuffle = False)"
      ],
      "metadata": {
        "id": "H2ODUPBHNvTj"
      },
      "execution_count": null,
      "outputs": []
    },
    {
      "cell_type": "code",
      "source": [
        "from torch.autograd import Variable\n",
        "\n",
        "model.to(device)\n",
        "for epoch in range(EPOCH):\n",
        "    model.train()\n",
        "    train_loss = 0\n",
        "    train_correct_count = 0\n",
        "    train_count = 0\n",
        "    for step, (batch_x, batch_y) in enumerate(train_loader):\n",
        "        bx = Variable(batch_x).to(device)\n",
        "        by = Variable(batch_y).to(device)\n",
        "\n",
        "        # Forward propagation\n",
        "        output = model(bx)\n",
        "        loss = loss_func(output, by)\n",
        "\n",
        "        # Clear gradient\n",
        "        optimization.zero_grad()\n",
        "        # Calculate gradients\n",
        "        loss.backward()\n",
        "        # Calculate gradients\n",
        "        optimization.step()\n",
        "\n",
        "        train_loss += loss.item()\n",
        "        train_count += len(by)\n",
        "        train_correct_count += sum((output.argmax(1) == by))\n",
        "\n",
        "        if (step+1) % 100 == 0:\n",
        "            accuracy = train_correct_count / train_count\n",
        "            loss = train_loss / (step+1)\n",
        "            print('Epoch: ', epoch, ' | iter: %4d / %4d' % (step+1, len(train_loader)), ' | train loss: %.4f' % loss, '| test accuracy: %.2f' % accuracy)\n",
        "    print('---')"
      ],
      "metadata": {
        "colab": {
          "base_uri": "https://localhost:8080/"
        },
        "id": "jP_YLSVkM-__",
        "outputId": "b979078c-9df8-481c-bc7d-18db9acefb75"
      },
      "execution_count": null,
      "outputs": [
        {
          "output_type": "stream",
          "name": "stdout",
          "text": [
            "Epoch:  0  | iter:  100 / 1200  | train loss: 1.1891 | test accuracy: 0.62\n",
            "Epoch:  0  | iter:  200 / 1200  | train loss: 0.7993 | test accuracy: 0.75\n",
            "Epoch:  0  | iter:  300 / 1200  | train loss: 0.6276 | test accuracy: 0.80\n",
            "Epoch:  0  | iter:  400 / 1200  | train loss: 0.5226 | test accuracy: 0.84\n",
            "Epoch:  0  | iter:  500 / 1200  | train loss: 0.4531 | test accuracy: 0.86\n",
            "Epoch:  0  | iter:  600 / 1200  | train loss: 0.4051 | test accuracy: 0.87\n",
            "Epoch:  0  | iter:  700 / 1200  | train loss: 0.3685 | test accuracy: 0.89\n",
            "Epoch:  0  | iter:  800 / 1200  | train loss: 0.3387 | test accuracy: 0.89\n",
            "Epoch:  0  | iter:  900 / 1200  | train loss: 0.3144 | test accuracy: 0.90\n",
            "Epoch:  0  | iter: 1000 / 1200  | train loss: 0.2936 | test accuracy: 0.91\n",
            "Epoch:  0  | iter: 1100 / 1200  | train loss: 0.2766 | test accuracy: 0.91\n",
            "Epoch:  0  | iter: 1200 / 1200  | train loss: 0.2628 | test accuracy: 0.92\n",
            "---\n"
          ]
        }
      ]
    },
    {
      "cell_type": "markdown",
      "source": [
        "#### Start Testing"
      ],
      "metadata": {
        "id": "ZIivUAWoiIyN"
      }
    },
    {
      "cell_type": "code",
      "source": [
        "model.to(device)\n",
        "torch.no_grad()\n",
        "\n",
        "test_loss = 0\n",
        "test_correct_count = 0\n",
        "test_count = 0\n",
        "for epoch in range(EPOCH):\n",
        "    for step, (batch_x, batch_y) in enumerate(test_loader):\n",
        "        bx = Variable(batch_x).to(device)\n",
        "        by = Variable(batch_y).to(device)\n",
        "\n",
        "        # Forward propagation\n",
        "        output = model(bx)\n",
        "        loss = loss_func(output, by)\n",
        "\n",
        "        test_loss += loss.item()\n",
        "        test_count += len(by)\n",
        "        test_correct_count += sum(output.argmax(1) == by)\n",
        "\n",
        "accuracy = test_correct_count / test_count\n",
        "loss = test_loss / (len(test_loader) * EPOCH)\n",
        "print('test loss: %.4f' % loss, '| test accuracy: %.2f' % accuracy)"
      ],
      "metadata": {
        "colab": {
          "base_uri": "https://localhost:8080/"
        },
        "id": "RTtWe5y7iRXD",
        "outputId": "3ddd0c5c-8c18-42d2-f4c7-03653d8a3e45"
      },
      "execution_count": null,
      "outputs": [
        {
          "output_type": "stream",
          "name": "stdout",
          "text": [
            "test loss: 0.0801 | test accuracy: 0.97\n"
          ]
        }
      ]
    },
    {
      "cell_type": "code",
      "source": [
        "plt.ion()\n",
        "model.to('cpu')\n",
        "for _, (batch_x, batch_y) in enumerate(test_loader):\n",
        "    bx = Variable(batch_x)\n",
        "    by = Variable(batch_y)\n",
        "    output = model(bx).argmax(1)\n",
        "    print('golden answer', list(by.numpy()))\n",
        "    print('your answer  ', list(output.numpy()))\n",
        "    print('correctess = ', sum((output == by)).numpy() * 2, '%')\n",
        "\n",
        "    for i in range(10):\n",
        "        plt.subplot(2, 5, i+1)\n",
        "        plt.imshow(bx[i][0].numpy(), cmap = 'gray')\n",
        "        plt.title('%d' % output[i])\n",
        "    break\n",
        "\n",
        "plt.show()"
      ],
      "metadata": {
        "colab": {
          "base_uri": "https://localhost:8080/",
          "height": 425
        },
        "id": "s3p0VlPDku28",
        "outputId": "690df083-cfbf-46ad-8718-f5c8f6f4b336"
      },
      "execution_count": null,
      "outputs": [
        {
          "output_type": "stream",
          "name": "stdout",
          "text": [
            "golden answer [7, 2, 1, 0, 4, 1, 4, 9, 5, 9, 0, 6, 9, 0, 1, 5, 9, 7, 3, 4, 9, 6, 6, 5, 4, 0, 7, 4, 0, 1, 3, 1, 3, 4, 7, 2, 7, 1, 2, 1, 1, 7, 4, 2, 3, 5, 1, 2, 4, 4]\n",
            "your answer   [7, 2, 1, 0, 4, 1, 4, 9, 5, 9, 0, 6, 9, 0, 1, 5, 9, 7, 3, 4, 9, 6, 6, 5, 4, 0, 7, 4, 0, 1, 3, 1, 3, 4, 7, 2, 7, 1, 2, 1, 1, 7, 4, 2, 3, 5, 1, 2, 4, 4]\n",
            "correctess =  100 %\n"
          ]
        },
        {
          "output_type": "display_data",
          "data": {
            "text/plain": [
              "<Figure size 640x480 with 10 Axes>"
            ],
            "image/png": "[encoded data removed]"
          },
          "metadata": {}
        }
      ]
    },
    {
      "cell_type": "markdown",
      "source": [
        "#### Write Parameters file and Inputs file"
      ],
      "metadata": {
        "id": "OFADiiVrrAYp"
      }
    },
    {
      "cell_type": "code",
      "source": [
        "# Print model's state_dict\n",
        "model.to('cpu')\n",
        "print(\"Model's state_dict:\")\n",
        "for param_tensor in model.state_dict():\n",
        "    print(param_tensor, \"\\t\", model.state_dict()[param_tensor].size())"
      ],
      "metadata": {
        "colab": {
          "base_uri": "https://localhost:8080/"
        },
        "id": "NOVHWFZ3rH3T",
        "outputId": "a60ef2b8-5dab-415e-f560-09531c3afd17"
      },
      "execution_count": null,
      "outputs": [
        {
          "output_type": "stream",
          "name": "stdout",
          "text": [
            "Model's state_dict:\n",
            "conv1.0.weight \t torch.Size([6, 1, 5, 5])\n",
            "conv1.0.bias \t torch.Size([6])\n",
            "conv2.0.weight \t torch.Size([16, 6, 5, 5])\n",
            "conv2.0.bias \t torch.Size([16])\n",
            "fc1.weight \t torch.Size([120, 400])\n",
            "fc1.bias \t torch.Size([120])\n",
            "fc2.weight \t torch.Size([84, 120])\n",
            "fc2.bias \t torch.Size([84])\n",
            "fc3.weight \t torch.Size([10, 84])\n",
            "fc3.bias \t torch.Size([10])\n"
          ]
        }
      ]
    },
    {
      "cell_type": "code",
      "source": [
        "f = open(\"weight.txt\", \"w\")\n",
        "for param_tensor in model.state_dict():\n",
        "    # calculate parameter size\n",
        "    param_size = 1\n",
        "    size = list(model.state_dict()[param_tensor].size())\n",
        "    for s in size:\n",
        "        param_size *= s\n",
        "    # modify parameter name\n",
        "    name = param_tensor.split('.')\n",
        "    name = name[0] + '_' + name[-1]\n",
        "    # write file\n",
        "    f.write('%s %d\\n' % (name, param_size))\n",
        "    weights = model.state_dict()[param_tensor]\n",
        "    weights = torch.flatten(weights).tolist()\n",
        "    for i in weights:\n",
        "        f.write(str(i) + ' ')\n",
        "    f.write('\\n')\n",
        "f.close()"
      ],
      "metadata": {
        "id": "amplG_4rtdO3"
      },
      "execution_count": null,
      "outputs": []
    },
    {
      "cell_type": "code",
      "source": [
        "fin = open(\"input.txt\", \"w\")\n",
        "fout = open(\"golden_output.txt\", \"w\")\n",
        "padding = nn.ZeroPad2d(2)\n",
        "model.to('cpu')\n",
        "\n",
        "fin.write(\"1024 1 10\\n\")\n",
        "for _, (batch_x, batch_y) in enumerate(test_loader):\n",
        "    bx = Variable(batch_x)\n",
        "    by = Variable(batch_y)\n",
        "\n",
        "    for i in range(BATCH_SIZE):\n",
        "        padding_bx = padding(bx[i])\n",
        "        input_img = torch.flatten(padding_bx).tolist()\n",
        "        cnt = 0\n",
        "        for pixel in input_img:\n",
        "            fin.write(str(pixel) + ' ')\n",
        "            cnt += 1\n",
        "            if cnt % 32 == 0:\n",
        "                fin.write('\\n')\n",
        "        fout.write('%d\\n' % int(by[i]))\n",
        "    break\n",
        "\n",
        "fin.close()\n",
        "fout.close()"
      ],
      "metadata": {
        "id": "Zali4dYklMrP"
      },
      "execution_count": null,
      "outputs": []
    }
  ]
}